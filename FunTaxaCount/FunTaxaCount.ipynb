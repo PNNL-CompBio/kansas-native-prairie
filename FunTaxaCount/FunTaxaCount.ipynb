{
 "cells": [
  {
   "cell_type": "markdown",
   "metadata": {
    "toc": "true"
   },
   "source": [
    "# Table of Contents\n",
    " <p><div class=\"lev1\"><a href=\"#FunTaxaCount\"><span class=\"toc-item-num\">1&nbsp;&nbsp;</span>FunTaxaCount</a></div><div class=\"lev2\"><a href=\"#FunTaxaCount-Input-directories\"><span class=\"toc-item-num\">1.1&nbsp;&nbsp;</span>FunTaxaCount Input directories</a></div><div class=\"lev3\"><a href=\"#Annotation-directory-contents\"><span class=\"toc-item-num\">1.1.1&nbsp;&nbsp;</span>Annotation directory contents</a></div><div class=\"lev3\"><a href=\"#BAM-Input-directory\"><span class=\"toc-item-num\">1.1.2&nbsp;&nbsp;</span>BAM Input directory</a></div><div class=\"lev3\"><a href=\"#Taxonomy-Input-directory\"><span class=\"toc-item-num\">1.1.3&nbsp;&nbsp;</span>Taxonomy Input directory</a></div><div class=\"lev1\"><a href=\"#Generating-Counts\"><span class=\"toc-item-num\">2&nbsp;&nbsp;</span>Generating Counts</a></div><div class=\"lev2\"><a href=\"#Obtain-gene-locations-on-the-assembly-from-the-annotation\"><span class=\"toc-item-num\">2.1&nbsp;&nbsp;</span>Obtain gene locations on the assembly from the annotation</a></div><div class=\"lev3\"><a href=\"#Obtain-read-counts-from-alignment\"><span class=\"toc-item-num\">2.1.1&nbsp;&nbsp;</span>Obtain read counts from alignment</a></div><div class=\"lev2\"><a href=\"#Combine-read-counts-into-one-file\"><span class=\"toc-item-num\">2.2&nbsp;&nbsp;</span>Combine read counts into one file</a></div><div class=\"lev2\"><a href=\"#Group-read-counts-by-protein-function\"><span class=\"toc-item-num\">2.3&nbsp;&nbsp;</span>Group read counts by protein function</a></div><div class=\"lev2\"><a href=\"#Group-read-counts-by-taxonomic-rank\"><span class=\"toc-item-num\">2.4&nbsp;&nbsp;</span>Group read counts by taxonomic rank</a></div><div class=\"lev2\"><a href=\"#Group-read-counts-by-protein-function-and-taxonomic-rank\"><span class=\"toc-item-num\">2.5&nbsp;&nbsp;</span>Group read counts by protein function and taxonomic rank</a></div><div class=\"lev1\"><a href=\"#Output-files\"><span class=\"toc-item-num\">3&nbsp;&nbsp;</span>Output files</a></div>"
   ]
  },
  {
   "cell_type": "markdown",
   "metadata": {},
   "source": [
    "# FunTaxaCount #\n",
    "\n",
    "The goal of this workflow is to generate Function and Taxonomic Counts of reads that have been aligned to a metagenome assembly that has been annotated with MetaPathways 2.5. As such, there are several input files that are expected, and several Count files that are generated.  \n",
    "\n",
    "## FunTaxaCount Input directories ##\n",
    "The input files are arranged in the following directories:"
   ]
  },
  {
   "cell_type": "code",
   "execution_count": 9,
   "metadata": {
    "collapsed": false
   },
   "outputs": [
    {
     "name": "stdout",
     "output_type": "stream",
     "text": [
      "../Data Types/Metagenomics/DNA_BAM:\n",
      "moleculo_gDNA_KansasA_HiSeq_gly_rep1-R1-ext_allData.aligned.bam\n",
      "moleculo_gDNA_KansasA_HiSeq_gly_rep2-R1-ext_allData.aligned.bam\n",
      "moleculo_gDNA_KansasA_HiSeq_gly_rep3-R1-ext_allData.aligned.bam\n",
      "moleculo_gDNA_KansasA_HiSeq_nogly_rep1-R1-ext_allData.aligned.bam\n",
      "moleculo_gDNA_KansasA_HiSeq_nogly_rep2-R1-ext_allData.aligned.bam\n",
      "moleculo_gDNA_KansasA_HiSeq_nogly_rep3-R1-ext_allData.aligned.bam\n",
      "moleculo_gDNA_KansasB_HiSeq_gly_rep1-R1-ext_allData.aligned.bam\n",
      "moleculo_gDNA_KansasB_HiSeq_gly_rep2-R1-ext_allData.aligned.bam\n",
      "moleculo_gDNA_KansasB_HiSeq_gly_rep3-R1-ext_allData.aligned.bam\n",
      "moleculo_gDNA_KansasB_HiSeq_nogly_rep1-R1-ext_allData.aligned.bam\n",
      "moleculo_gDNA_KansasB_HiSeq_nogly_rep2-R1-ext_allData.aligned.bam\n",
      "moleculo_gDNA_KansasB_HiSeq_nogly_rep3-R1-ext_allData.aligned.bam\n",
      "moleculo_gDNA_KansasC_HiSeq_gly_rep1-R1-ext_allData.aligned.bam\n",
      "moleculo_gDNA_KansasC_HiSeq_gly_rep2-R1-ext_allData.aligned.bam\n",
      "moleculo_gDNA_KansasC_HiSeq_gly_rep3-R1-ext_allData.aligned.bam\n",
      "moleculo_gDNA_KansasC_HiSeq_nogly_rep1-R1-ext_allData.aligned.bam\n",
      "moleculo_gDNA_KansasC_HiSeq_nogly_rep2-R1-ext_allData.aligned.bam\n",
      "moleculo_gDNA_KansasC_HiSeq_nogly_rep3-R1-ext_allData.aligned.bam\n",
      "\n",
      "../Data Types/Metatranscriptomics/RNA_BAM:\n",
      "moleculo_cDNA_KansasA_HiSeq_gly_rep1-R1-ext_allData_nonrRNA.aligned.bam\n",
      "moleculo_cDNA_KansasA_HiSeq_gly_rep2-R1-ext_allData_nonrRNA.aligned.bam\n",
      "moleculo_cDNA_KansasA_HiSeq_gly_rep3-R1-ext_allData_nonrRNA.aligned.bam\n",
      "moleculo_cDNA_KansasA_HiSeq_nogly_rep1-R1-ext_allData_nonrRNA.aligned.bam\n",
      "moleculo_cDNA_KansasA_HiSeq_nogly_rep2-R1-ext_allData_nonrRNA.aligned.bam\n",
      "moleculo_cDNA_KansasA_HiSeq_nogly_rep3-R1-ext_allData_nonrRNA.aligned.bam\n",
      "moleculo_cDNA_KansasB_HiSeq_gly_rep1-R1-ext_allData_nonrRNA.aligned.bam\n",
      "moleculo_cDNA_KansasB_HiSeq_gly_rep2-R1-ext_allData_nonrRNA.aligned.bam\n",
      "moleculo_cDNA_KansasB_HiSeq_gly_rep3-R1-ext_allData_nonrRNA.aligned.bam\n",
      "moleculo_cDNA_KansasB_HiSeq_nogly_rep1-R1-ext_allData_nonrRNA.aligned.bam\n",
      "moleculo_cDNA_KansasB_HiSeq_nogly_rep2-R1-ext_allData_nonrRNA.aligned.bam\n",
      "moleculo_cDNA_KansasB_HiSeq_nogly_rep3-R1-ext_allData_nonrRNA.aligned.bam\n",
      "moleculo_cDNA_KansasC_HiSeq_gly_rep1-R1-ext_allData_nonrRNA.aligned.bam\n",
      "moleculo_cDNA_KansasC_HiSeq_gly_rep2-R1-ext_allData_nonrRNA.aligned.bam\n",
      "moleculo_cDNA_KansasC_HiSeq_gly_rep3-R1-ext_allData_nonrRNA.aligned.bam\n",
      "moleculo_cDNA_KansasC_HiSeq_nogly_rep1-R1-ext_allData_nonrRNA.aligned.bam\n",
      "moleculo_cDNA_KansasC_HiSeq_nogly_rep2-R1-ext_allData_nonrRNA.aligned.bam\n",
      "moleculo_cDNA_KansasC_HiSeq_nogly_rep3-R1-ext_allData_nonrRNA.aligned.bam\n",
      "\n",
      "../Data Types/Moleculo_Assembly/Annotation:\n",
      "ORF_annotation_table.txt\n",
      "White-moleculo_LongRead.mapping.txt\n",
      "functional_and_taxonomic_table.txt\n",
      "\n",
      "Taxonomy:\n",
      "merged.dmp\n",
      "ncbi.map\n",
      "nodes.dmp\n"
     ]
    }
   ],
   "source": [
    "%%bash\n",
    "ls  Taxonomy ../Data\\ Types/Metatranscriptomics/RNA_BAM  ../Data\\ Types/Metagenomics/DNA_BAM ../Data\\ Types/Moleculo_Assembly/Annotation"
   ]
  },
  {
   "cell_type": "markdown",
   "metadata": {},
   "source": [
    "### Annotation directory contents ###\n",
    "In the `Annotation` directory are expected 2 files are outputs of the MetaPathways 2.5 annotation:\n",
    "  * `ORF_annotation_table.txt` containing `Cog` and `KO` functional annotations for each `ORF_ID`.\n",
    "  * `functional_and_taxonomic_table.txt` containing `ec` functional annotations and NCBI `taxonomy` annotations for each `ORF_ID`\n",
    "  * A `*.mapping.txt` file that maps the contig `seqid` in the `gff` file to the Metapathways 2.5 contig `seqid` of the `BAM` files.\n",
    "  * A `*.pf` file that contains the input to `Pathologic`.\n",
    "  \n"
   ]
  },
  {
   "cell_type": "code",
   "execution_count": 11,
   "metadata": {
    "collapsed": false
   },
   "outputs": [
    {
     "name": "stdout",
     "output_type": "stream",
     "text": [
      "White-moleculo_LongRead_99267_0\t710\t2\t712\tWhite-moleculo_LongRead_99267\t7464\t-\t2.7.7.49\tRhizobium sp. CCGE 510 (1132836)\tRetron-type RNA-directed DNA polymerase (EC 2.7.7.49)\r\n"
     ]
    }
   ],
   "source": [
    "!grep White-moleculo_LongRead_99267_0 ../Data\\ Types/Moleculo_Assembly/Annotation/functional_and_taxonomic_table.txt\n"
   ]
  },
  {
   "cell_type": "code",
   "execution_count": 6,
   "metadata": {
    "collapsed": false
   },
   "outputs": [
    {
     "name": "stdout",
     "output_type": "stream",
     "text": [
      "White-moleculo_LongRead_99267_0\tWhite-moleculo_LongRead_99267\t\t\tRetron-type RNA-directed DNA polymerase (EC 2.7.7.49) \t\t\r\n"
     ]
    }
   ],
   "source": [
    "!grep White-moleculo_LongRead_99267_0 ../Data\\ Types/Moleculo_Assembly/Annotation/ORF_annotation_table.txt\n"
   ]
  },
  {
   "cell_type": "code",
   "execution_count": 12,
   "metadata": {
    "collapsed": false
   },
   "outputs": [
    {
     "name": "stdout",
     "output_type": "stream",
     "text": [
      "White-moleculo_LongRead_99267\tRead_99268-Barcode=BC307:length=7464\t7464\r\n"
     ]
    }
   ],
   "source": [
    "!grep White-moleculo_LongRead_99267 ../Data\\ Types/Moleculo_Assembly/Annotation/White-moleculo_LongRead.mapping.txt"
   ]
  },
  {
   "cell_type": "markdown",
   "metadata": {},
   "source": [
    "### BAM Input directory ###\n",
    "The BAM input directory contains BAM files that were aligned to the assembly using Metapathways 2.5 contig names.\n"
   ]
  },
  {
   "cell_type": "code",
   "execution_count": 1,
   "metadata": {
    "collapsed": false
   },
   "outputs": [
    {
     "name": "stdout",
     "output_type": "stream",
     "text": [
      "@SQ\tSN:Read_99268-Barcode=BC307:length=7464\tLN:7464\n"
     ]
    },
    {
     "name": "stderr",
     "output_type": "stream",
     "text": [
      "[main_samview] random alignment retrieval only works for indexed BAM or CRAM files.\n"
     ]
    }
   ],
   "source": [
    "%%bash\n",
    "samtools view -h \\\n",
    "    ../Data\\ Types/Metatranscriptomics/RNA_BAM/moleculo_cDNA_KansasA_HiSeq_gly_rep1-R1-ext_allData_nonrRNA.aligned.bam \\\n",
    "     Read_99268-Barcode=BC307:length=7464 | grep Read_99268-Barcode=BC307:length=7464"
   ]
  },
  {
   "cell_type": "markdown",
   "metadata": {},
   "source": [
    "### Taxonomy Input directory ###\n",
    "The NCBI_tree input directory contains two files:\n",
    "* `ncbi.map` contains the mappings from NCBI taxon id to Megan IDs, and was obtained from [LCAStar](https://github.com/hallamlab/LCAStar/blob/master/resources/ncbi.map)\n",
    "* `nodes.dmp` contains a representation of the NCBI tree\n",
    "* `merged.dmp` contains mappings from obsolete NCBI taxonomy ids to the merged NCBI node.\n",
    "\n",
    "The latter two files were obtained from the [NCBI Taxonomy FTP](ftp://ftp.ncbi.nih.gov/pub/taxonomy/taxdump.tar.gz) directory, and their format is described in the [readme](ftp://ftp.ncbi.nih.gov/pub/taxonomy/taxdump_readme.txt).\n",
    "\n",
    "```\n",
    "nodes.dmp\n",
    "---------\n",
    "\n",
    "This file represents taxonomy nodes. The description for each node includes \n",
    "the following fields:\n",
    "\n",
    "\ttax_id\t\t\t\t\t-- node id in GenBank taxonomy database\n",
    " \tparent tax_id\t\t\t\t-- parent node id in GenBank taxonomy database\n",
    " \trank\t\t\t\t\t-- rank of this node (superkingdom, kingdom, ...) \n",
    " \tembl code\t\t\t\t-- locus-name prefix; not unique\n",
    " \tdivision id\t\t\t\t-- see division.dmp file\n",
    " \tinherited div flag  (1 or 0)\t\t-- 1 if node inherits division from parent\n",
    " \tgenetic code id\t\t\t\t-- see gencode.dmp file\n",
    " \tinherited GC  flag  (1 or 0)\t\t-- 1 if node inherits genetic code from parent\n",
    " \tmitochondrial genetic code id\t\t-- see gencode.dmp file\n",
    " \tinherited MGC flag  (1 or 0)\t\t-- 1 if node inherits mitochondrial gencode from parent\n",
    " \tGenBank hidden flag (1 or 0)            -- 1 if name is suppressed in GenBank entry lineage\n",
    " \thidden subtree root flag (1 or 0)       -- 1 if this subtree has no sequence data yet\n",
    " \tcomments\t\t\t\t-- free-text comments and citations\n",
    "\n",
    "merged.dmp\n",
    "----------\n",
    "Merged nodes file fields:\n",
    "\n",
    "\told_tax_id                              -- id of nodes which has been merged\n",
    "\tnew_tax_id                              -- id of nodes which is result of merging\n",
    "\n",
    "```\n"
   ]
  },
  {
   "cell_type": "markdown",
   "metadata": {},
   "source": [
    "# Generating Counts #\n",
    "\n",
    "The following programs are run to generate counts:\n",
    "\n",
    "* `generate_gff.py`: obtain gene locations on the assembly from the annotation.\n",
    "* `htseq-count`: obtain read counts from alignment\n",
    "* `get_read_counts.py`: Combine read counts into one file\n",
    "* `get_function_counts.py`: group read counts by protein function\n",
    "* `get_rank_counts.py`: group read counts by taxonomic rank\n",
    "* `get_fun_rank_counts.py`: group read counts by protein function and taxonomic rank.\n",
    "\n",
    "## Obtain gene locations on the assembly from the annotation ##"
   ]
  },
  {
   "cell_type": "code",
   "execution_count": 4,
   "metadata": {
    "collapsed": false,
    "scrolled": true
   },
   "outputs": [
    {
     "name": "stdout",
     "output_type": "stream",
     "text": [
      "usage: generate_gff.py [-h] mapfile annotation [gff_out]\r\n",
      "\r\n",
      "Convert gff to new mapping\r\n",
      "\r\n",
      "positional arguments:\r\n",
      "  mapfile     Mapping from Assembly contig ids to Metapathways contig ids\r\n",
      "  annotation  functional and taxonomic table from Metapathways output\r\n",
      "  gff_out     Output gff3 file (default is stdout)\r\n",
      "\r\n",
      "optional arguments:\r\n",
      "  -h, --help  show this help message and exit\r\n"
     ]
    }
   ],
   "source": [
    "!python src/generate_gff.py --help"
   ]
  },
  {
   "cell_type": "markdown",
   "metadata": {},
   "source": [
    "### Obtain read counts from alignment ###\n",
    "`$ htseq-count --help`\n",
    "\n",
    "```bash\n",
    "htseq-count --help\n",
    "Usage: htseq-count [options] alignment_file gff_file\n",
    "\n",
    "This script takes an alignment file in SAM/BAM format and a feature file in GFF format and calculates for each feature the number of reads mapping to it. See http://www-\n",
    "huber.embl.de/users/anders/HTSeq/doc/count.html for details.\n",
    "\n",
    "Options:\n",
    "  -h, --help            show this help message and exit\n",
    "  -f SAMTYPE, --format=SAMTYPE\n",
    "                        type of <alignment_file> data, either 'sam' or 'bam' (default: sam)\n",
    "  -r ORDER, --order=ORDER\n",
    "                        'pos' or 'name'. Sorting order of <alignment_file> (default: name). Paired-end sequencing data must be sorted either by position or by read name, and the sorting order must be\n",
    "                        specified. Ignored for single-end data.\n",
    "  -s STRANDED, --stranded=STRANDED\n",
    "                        whether the data is from a strand-specific assay. Specify 'yes', 'no', or 'reverse' (default: yes). 'reverse' means 'yes' with reversed strand interpretation\n",
    "  -a MINAQUAL, --minaqual=MINAQUAL\n",
    "                        skip all reads with alignment quality lower than the given minimum value (default: 10)\n",
    "  -t FEATURETYPE, --type=FEATURETYPE\n",
    "                        feature type (3rd column in GFF file) to be used, all features of other type are ignored (default, suitable for Ensembl GTF files: exon)\n",
    "  -i IDATTR, --idattr=IDATTR\n",
    "                        GFF attribute to be used as feature ID (default, suitable for Ensembl GTF files: gene_id)\n",
    "  -m MODE, --mode=MODE  mode to handle reads overlapping more than one feature (choices: union, intersection-strict, intersection-nonempty; default: union)\n",
    "  -o SAMOUT, --samout=SAMOUT\n",
    "                        write out all SAM alignment records into an output SAM file called SAMOUT, annotating each line with its feature assignment (as an optional field with tag 'XF')\n",
    "  -q, --quiet           suppress progress report\n",
    "\n",
    "Written by Simon Anders (sanders@fs.tum.de), European Molecular Biology Laboratory (EMBL). (c) 2010. Released under the terms of the GNU General Public License v3. Part of the 'HTSeq' framework, version\n",
    "0.6.0.\n",
    "```\n",
    "\n",
    "## Combine read counts into one file ##"
   ]
  },
  {
   "cell_type": "code",
   "execution_count": 15,
   "metadata": {
    "collapsed": false
   },
   "outputs": [
    {
     "name": "stdout",
     "output_type": "stream",
     "text": [
      "usage: get_read_counts.py [-h]\r\n",
      "                          [--read_count_files [READ_COUNT_FILES [READ_COUNT_FILES ...]]]\r\n",
      "                          [--out [OUT]]\r\n",
      "\r\n",
      "Collect read counts into one file\r\n",
      "\r\n",
      "optional arguments:\r\n",
      "  -h, --help            show this help message and exit\r\n",
      "  --read_count_files [READ_COUNT_FILES [READ_COUNT_FILES ...]]\r\n",
      "  --out [OUT]\r\n"
     ]
    }
   ],
   "source": [
    "!python src/get_read_counts.py --help"
   ]
  },
  {
   "cell_type": "markdown",
   "metadata": {},
   "source": [
    "## Group read counts by protein function ##"
   ]
  },
  {
   "cell_type": "code",
   "execution_count": 19,
   "metadata": {
    "collapsed": false
   },
   "outputs": [
    {
     "name": "stdout",
     "output_type": "stream",
     "text": [
      "python: can't open file 'src/get_fun_counts.py': [Errno 2] No such file or directory\r\n"
     ]
    }
   ],
   "source": [
    "!python src/get_function_counts.py --help"
   ]
  },
  {
   "cell_type": "markdown",
   "metadata": {},
   "source": [
    "## Group read counts by taxonomic rank ##"
   ]
  },
  {
   "cell_type": "code",
   "execution_count": 17,
   "metadata": {
    "collapsed": false
   },
   "outputs": [
    {
     "name": "stdout",
     "output_type": "stream",
     "text": [
      "usage: get_rank_counts.py [-h] [--rank {phylum,class}] [--out [OUT]]\r\n",
      "                          [funtax] orf read_counts ncbi_megan_map ncbi_tree\r\n",
      "                          merge_map\r\n",
      "\r\n",
      "Generate rank counts\r\n",
      "\r\n",
      "positional arguments:\r\n",
      "  funtax\r\n",
      "  orf\r\n",
      "  read_counts\r\n",
      "  ncbi_megan_map\r\n",
      "  ncbi_tree\r\n",
      "  merge_map\r\n",
      "\r\n",
      "optional arguments:\r\n",
      "  -h, --help            show this help message and exit\r\n",
      "  --rank {phylum,class}\r\n",
      "  --out [OUT]\r\n"
     ]
    }
   ],
   "source": [
    "!python src/get_rank_counts.py --help"
   ]
  },
  {
   "cell_type": "markdown",
   "metadata": {},
   "source": [
    "## Group read counts by protein function and taxonomic rank ##"
   ]
  },
  {
   "cell_type": "code",
   "execution_count": 20,
   "metadata": {
    "collapsed": false
   },
   "outputs": [
    {
     "name": "stdout",
     "output_type": "stream",
     "text": [
      "usage: get_fun_rank_counts.py [-h] [--rank {phylum,class}]\r\n",
      "                              [--function {ec,KO,COG}] [--out [OUT]]\r\n",
      "                              [funtax] orf read_counts ncbi_megan_map\r\n",
      "                              ncbi_tree merged_map\r\n",
      "\r\n",
      "Generate rank counts\r\n",
      "\r\n",
      "positional arguments:\r\n",
      "  funtax\r\n",
      "  orf\r\n",
      "  read_counts\r\n",
      "  ncbi_megan_map\r\n",
      "  ncbi_tree\r\n",
      "  merged_map\r\n",
      "\r\n",
      "optional arguments:\r\n",
      "  -h, --help            show this help message and exit\r\n",
      "  --rank {phylum,class}\r\n",
      "  --function {ec,KO,COG}\r\n",
      "  --out [OUT]\r\n"
     ]
    }
   ],
   "source": [
    "!python src/get_fun_rank_counts.py --help"
   ]
  },
  {
   "cell_type": "markdown",
   "metadata": {
    "collapsed": false
   },
   "source": [
    "# Output files #\n",
    "These are the output files:"
   ]
  },
  {
   "cell_type": "code",
   "execution_count": 3,
   "metadata": {
    "collapsed": false,
    "scrolled": true
   },
   "outputs": [
    {
     "name": "stdout",
     "output_type": "stream",
     "text": [
      "ls: ../Data Types/Moleculo_Assembly/Annotation/*.gff: No such file or directory\r\n",
      "../Data Types/Metagenomics/DNA_Counts:\r\n",
      "\u001b[31mDNA_function_COG_counts.tsv\u001b[m\u001b[m\r\n",
      "\u001b[31mDNA_function_KO_counts.tsv\u001b[m\u001b[m\r\n",
      "\u001b[31mDNA_function_ec_counts.tsv\u001b[m\u001b[m\r\n",
      "\u001b[31mDNA_funtaxa_COG_class_counts.tsv\u001b[m\u001b[m\r\n",
      "\u001b[31mDNA_funtaxa_COG_phylum_counts.tsv\u001b[m\u001b[m\r\n",
      "\u001b[31mDNA_funtaxa_KO_class_counts.tsv\u001b[m\u001b[m\r\n",
      "\u001b[31mDNA_funtaxa_KO_phylum_counts.tsv\u001b[m\u001b[m\r\n",
      "\u001b[31mDNA_funtaxa_ec_class_counts.tsv\u001b[m\u001b[m\r\n",
      "\u001b[31mDNA_funtaxa_ec_phylum_counts.tsv\u001b[m\u001b[m\r\n",
      "\u001b[31mDNA_read_counts.tsv\u001b[m\u001b[m\r\n",
      "\u001b[31mDNA_taxa_class_counts.tsv\u001b[m\u001b[m\r\n",
      "\u001b[31mDNA_taxa_phylum_counts.tsv\u001b[m\u001b[m\r\n",
      "\u001b[31mmoleculo_gDNA_KansasA_HiSeq_gly_rep1-R1-ext_allData.aligned.bam.counts\u001b[m\u001b[m\r\n",
      "\u001b[31mmoleculo_gDNA_KansasA_HiSeq_gly_rep2-R1-ext_allData.aligned.bam.counts\u001b[m\u001b[m\r\n",
      "\u001b[31mmoleculo_gDNA_KansasA_HiSeq_gly_rep3-R1-ext_allData.aligned.bam.counts\u001b[m\u001b[m\r\n",
      "\u001b[31mmoleculo_gDNA_KansasA_HiSeq_nogly_rep1-R1-ext_allData.aligned.bam.counts\u001b[m\u001b[m\r\n",
      "\u001b[31mmoleculo_gDNA_KansasA_HiSeq_nogly_rep2-R1-ext_allData.aligned.bam.counts\u001b[m\u001b[m\r\n",
      "\u001b[31mmoleculo_gDNA_KansasA_HiSeq_nogly_rep3-R1-ext_allData.aligned.bam.counts\u001b[m\u001b[m\r\n",
      "\u001b[31mmoleculo_gDNA_KansasB_HiSeq_gly_rep1-R1-ext_allData.aligned.bam.counts\u001b[m\u001b[m\r\n",
      "\u001b[31mmoleculo_gDNA_KansasB_HiSeq_gly_rep2-R1-ext_allData.aligned.bam.counts\u001b[m\u001b[m\r\n",
      "\u001b[31mmoleculo_gDNA_KansasB_HiSeq_gly_rep3-R1-ext_allData.aligned.bam.counts\u001b[m\u001b[m\r\n",
      "\u001b[31mmoleculo_gDNA_KansasB_HiSeq_nogly_rep1-R1-ext_allData.aligned.bam.counts\u001b[m\u001b[m\r\n",
      "\u001b[31mmoleculo_gDNA_KansasB_HiSeq_nogly_rep2-R1-ext_allData.aligned.bam.counts\u001b[m\u001b[m\r\n",
      "\u001b[31mmoleculo_gDNA_KansasB_HiSeq_nogly_rep3-R1-ext_allData.aligned.bam.counts\u001b[m\u001b[m\r\n",
      "\u001b[31mmoleculo_gDNA_KansasC_HiSeq_gly_rep1-R1-ext_allData.aligned.bam.counts\u001b[m\u001b[m\r\n",
      "\u001b[31mmoleculo_gDNA_KansasC_HiSeq_gly_rep2-R1-ext_allData.aligned.bam.counts\u001b[m\u001b[m\r\n",
      "\u001b[31mmoleculo_gDNA_KansasC_HiSeq_gly_rep2-R1-ext_allData.aligned.bam.err\u001b[m\u001b[m\r\n",
      "\u001b[31mmoleculo_gDNA_KansasC_HiSeq_gly_rep3-R1-ext_allData.aligned.bam.counts\u001b[m\u001b[m\r\n",
      "\u001b[31mmoleculo_gDNA_KansasC_HiSeq_nogly_rep1-R1-ext_allData.aligned.bam.counts\u001b[m\u001b[m\r\n",
      "\u001b[31mmoleculo_gDNA_KansasC_HiSeq_nogly_rep2-R1-ext_allData.aligned.bam.counts\u001b[m\u001b[m\r\n",
      "\u001b[31mmoleculo_gDNA_KansasC_HiSeq_nogly_rep3-R1-ext_allData.aligned.bam.counts\u001b[m\u001b[m\r\n",
      "\r\n",
      "../Data Types/Metatranscriptomics/RNA_Counts:\r\n",
      "\u001b[31m#empty_cnts.txt#\u001b[m\u001b[m\r\n",
      "\u001b[31mRNA_function_COG_counts.tsv\u001b[m\u001b[m\r\n",
      "\u001b[31mRNA_function_KO_counts.tsv\u001b[m\u001b[m\r\n",
      "\u001b[31mRNA_function_ec_counts.tsv\u001b[m\u001b[m\r\n",
      "\u001b[31mRNA_funtaxa_COG_class_counts.tsv\u001b[m\u001b[m\r\n",
      "\u001b[31mRNA_funtaxa_COG_phylum_counts.tsv\u001b[m\u001b[m\r\n",
      "\u001b[31mRNA_funtaxa_KO_class_counts.tsv\u001b[m\u001b[m\r\n",
      "\u001b[31mRNA_funtaxa_KO_phylum_counts.tsv\u001b[m\u001b[m\r\n",
      "\u001b[31mRNA_funtaxa_ec_class_counts.tsv\u001b[m\u001b[m\r\n",
      "\u001b[31mRNA_funtaxa_ec_phylum_counts.tsv\u001b[m\u001b[m\r\n",
      "\u001b[31mRNA_read_counts.tsv\u001b[m\u001b[m\r\n",
      "\u001b[31mRNA_taxa_class_counts.tsv\u001b[m\u001b[m\r\n",
      "\u001b[31mRNA_taxa_phylum_counts.tsv\u001b[m\u001b[m\r\n",
      "\u001b[31mempty_cnts.txt\u001b[m\u001b[m\r\n",
      "\u001b[31mempty_cnts.txt~\u001b[m\u001b[m\r\n",
      "\u001b[31mmoleculo_cDNA_KansasA_HiSeq_gly_rep1-R1-ext_allData_nonrRNA.aligned.bam.counts\u001b[m\u001b[m\r\n",
      "\u001b[31mmoleculo_cDNA_KansasA_HiSeq_gly_rep2-R1-ext_allData_nonrRNA.aligned.bam.counts\u001b[m\u001b[m\r\n",
      "\u001b[31mmoleculo_cDNA_KansasA_HiSeq_gly_rep3-R1-ext_allData_nonrRNA.aligned.bam.counts\u001b[m\u001b[m\r\n",
      "\u001b[31mmoleculo_cDNA_KansasA_HiSeq_nogly_rep1-R1-ext_allData_nonrRNA.aligned.bam.counts\u001b[m\u001b[m\r\n",
      "\u001b[31mmoleculo_cDNA_KansasA_HiSeq_nogly_rep2-R1-ext_allData_nonrRNA.aligned.bam.counts\u001b[m\u001b[m\r\n",
      "\u001b[31mmoleculo_cDNA_KansasA_HiSeq_nogly_rep3-R1-ext_allData_nonrRNA.aligned.bam.counts\u001b[m\u001b[m\r\n",
      "\u001b[31mmoleculo_cDNA_KansasB_HiSeq_gly_rep1-R1-ext_allData_nonrRNA.aligned.bam.counts\u001b[m\u001b[m\r\n",
      "\u001b[31mmoleculo_cDNA_KansasB_HiSeq_gly_rep2-R1-ext_allData_nonrRNA.aligned.bam.counts\u001b[m\u001b[m\r\n",
      "\u001b[31mmoleculo_cDNA_KansasB_HiSeq_gly_rep3-R1-ext_allData_nonrRNA.aligned.bam.counts\u001b[m\u001b[m\r\n",
      "\u001b[31mmoleculo_cDNA_KansasB_HiSeq_nogly_rep1-R1-ext_allData_nonrRNA.aligned.bam.counts\u001b[m\u001b[m\r\n",
      "\u001b[31mmoleculo_cDNA_KansasB_HiSeq_nogly_rep2-R1-ext_allData_nonrRNA.aligned.bam.counts\u001b[m\u001b[m\r\n",
      "\u001b[31mmoleculo_cDNA_KansasB_HiSeq_nogly_rep3-R1-ext_allData_nonrRNA.aligned.bam.counts\u001b[m\u001b[m\r\n",
      "\u001b[31mmoleculo_cDNA_KansasC_HiSeq_gly_rep1-R1-ext_allData_nonrRNA.aligned.bam.counts\u001b[m\u001b[m\r\n",
      "\u001b[31mmoleculo_cDNA_KansasC_HiSeq_gly_rep2-R1-ext_allData_nonrRNA.aligned.bam.counts\u001b[m\u001b[m\r\n",
      "\u001b[31mmoleculo_cDNA_KansasC_HiSeq_gly_rep3-R1-ext_allData_nonrRNA.aligned.bam.counts\u001b[m\u001b[m\r\n",
      "\u001b[31mmoleculo_cDNA_KansasC_HiSeq_nogly_rep1-R1-ext_allData_nonrRNA.aligned.bam.counts\u001b[m\u001b[m\r\n",
      "\u001b[31mmoleculo_cDNA_KansasC_HiSeq_nogly_rep2-R1-ext_allData_nonrRNA.aligned.bam.counts\u001b[m\u001b[m\r\n",
      "\u001b[31mmoleculo_cDNA_KansasC_HiSeq_nogly_rep3-R1-ext_allData_nonrRNA.aligned.bam.counts\u001b[m\u001b[m\r\n",
      "\u001b[31mtest.xlsx\u001b[m\u001b[m\r\n"
     ]
    }
   ],
   "source": [
    "!ls ../Data\\ Types/Moleculo_Assembly/Annotation/*.gff ../Data\\ Types/Metatranscriptomics/RNA_Counts ../Data\\ Types/Metagenomics/DNA_Counts"
   ]
  },
  {
   "cell_type": "code",
   "execution_count": null,
   "metadata": {
    "collapsed": true
   },
   "outputs": [],
   "source": []
  }
 ],
 "metadata": {
  "kernelspec": {
   "display_name": "Python 3",
   "language": "python",
   "name": "python3"
  },
  "language_info": {
   "codemirror_mode": {
    "name": "ipython",
    "version": 3
   },
   "file_extension": ".py",
   "mimetype": "text/x-python",
   "name": "python",
   "nbconvert_exporter": "python",
   "pygments_lexer": "ipython3",
   "version": "3.5.1"
  },
  "latex_envs": {
   "bibliofile": "biblio.bib",
   "cite_by": "apalike",
   "current_citInitial": 1,
   "eqLabelWithNumbers": true,
   "eqNumInitial": 0
  },
  "toc": {
   "toc_cell": true,
   "toc_number_sections": true,
   "toc_section_display": "block",
   "toc_threshold": 6,
   "toc_window_display": false
  }
 },
 "nbformat": 4,
 "nbformat_minor": 0
}
